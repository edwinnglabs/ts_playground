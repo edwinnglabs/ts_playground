{
  "nbformat": 4,
  "nbformat_minor": 5,
  "metadata": {
    "colab": {
      "name": "orbit_m3_backtest.ipynb",
      "provenance": [],
      "collapsed_sections": [],
      "include_colab_link": true
    },
    "kernelspec": {
      "display_name": "orbit-master",
      "language": "python",
      "name": "orbit-master"
    },
    "language_info": {
      "codemirror_mode": {
        "name": "ipython",
        "version": 3
      },
      "file_extension": ".py",
      "mimetype": "text/x-python",
      "name": "python",
      "nbconvert_exporter": "python",
      "pygments_lexer": "ipython3",
      "version": "3.7.8"
    }
  },
  "cells": [
    {
      "cell_type": "markdown",
      "metadata": {
        "id": "view-in-github",
        "colab_type": "text"
      },
      "source": [
        "<a href=\"https://colab.research.google.com/github/edwinnglabs/ts_playground/blob/main/orbit_m3_backtest.ipynb\" target=\"_parent\"><img src=\"https://colab.research.google.com/assets/colab-badge.svg\" alt=\"Open In Colab\"/></a>"
      ]
    },
    {
      "cell_type": "markdown",
      "metadata": {
        "id": "994f63e1"
      },
      "source": [
        "# A Demo on Backtesting M3 with Various Models"
      ],
      "id": "994f63e1"
    },
    {
      "cell_type": "markdown",
      "metadata": {
        "id": "be2cd336"
      },
      "source": [
        "This notebook aims to\n",
        "1. provide a simple demo how to backtest models with orbit provided functions.  \n",
        "2. add transperancy how our accuracy metrics are derived in https://arxiv.org/abs/2004.08492.\n",
        "\n",
        "Due to versioning and random seed, there could be subtle difference for the final numbers. This notebook should also be available in colab."
      ],
      "id": "be2cd336"
    },
    {
      "cell_type": "code",
      "metadata": {
        "colab": {
          "base_uri": "https://localhost:8080/",
          "height": 1000
        },
        "id": "2166de6a",
        "outputId": "026b0f74-af59-45aa-b873-a74e7f00428d"
      },
      "source": [
        "!pip install orbit-ml==1.0.13\n",
        "!pip install fbprophet==0.7.1"
      ],
      "id": "2166de6a",
      "execution_count": null,
      "outputs": [
        {
          "output_type": "stream",
          "text": [
            "Collecting orbit-ml==1.0.13\n",
            "\u001b[?25l  Downloading https://files.pythonhosted.org/packages/e7/95/527352cdc0d79e0965301346dfb0d21c37b17d920f745788f3d9d2df456d/orbit_ml-1.0.13-py3-none-any.whl (102kB)\n",
            "\r\u001b[K     |███▏                            | 10kB 14.7MB/s eta 0:00:01\r\u001b[K     |██████▍                         | 20kB 21.0MB/s eta 0:00:01\r\u001b[K     |█████████▋                      | 30kB 26.4MB/s eta 0:00:01\r\u001b[K     |████████████▊                   | 40kB 21.4MB/s eta 0:00:01\r\u001b[K     |████████████████                | 51kB 16.9MB/s eta 0:00:01\r\u001b[K     |███████████████████▏            | 61kB 19.1MB/s eta 0:00:01\r\u001b[K     |██████████████████████▎         | 71kB 11.9MB/s eta 0:00:01\r\u001b[K     |█████████████████████████▌      | 81kB 12.1MB/s eta 0:00:01\r\u001b[K     |████████████████████████████▊   | 92kB 12.0MB/s eta 0:00:01\r\u001b[K     |███████████████████████████████▉| 102kB 12.1MB/s eta 0:00:01\r\u001b[K     |████████████████████████████████| 112kB 12.1MB/s \n",
            "\u001b[?25hRequirement already satisfied: pystan==2.19.1.1 in /usr/local/lib/python3.7/dist-packages (from orbit-ml==1.0.13) (2.19.1.1)\n",
            "Requirement already satisfied: tqdm in /usr/local/lib/python3.7/dist-packages (from orbit-ml==1.0.13) (4.41.1)\n",
            "Collecting pyro-ppl>=1.4.0\n",
            "\u001b[?25l  Downloading https://files.pythonhosted.org/packages/aa/7a/fbab572fd385154a0c07b0fa138683aa52e14603bb83d37b198e5f9269b1/pyro_ppl-1.6.0-py3-none-any.whl (634kB)\n",
            "\u001b[K     |████████████████████████████████| 634kB 11.6MB/s \n",
            "\u001b[?25hRequirement already satisfied: scipy>=1.4.1 in /usr/local/lib/python3.7/dist-packages (from orbit-ml==1.0.13) (1.4.1)\n",
            "Collecting matplotlib==3.3.4\n",
            "\u001b[?25l  Downloading https://files.pythonhosted.org/packages/23/3d/db9a6b3c83c9511301152dbb64a029c3a4313c86eaef12c237b13ecf91d6/matplotlib-3.3.4-cp37-cp37m-manylinux1_x86_64.whl (11.5MB)\n",
            "\u001b[K     |████████████████████████████████| 11.6MB 32.5MB/s \n",
            "\u001b[?25hRequirement already satisfied: pandas>=1.0.3 in /usr/local/lib/python3.7/dist-packages (from orbit-ml==1.0.13) (1.1.5)\n",
            "Collecting custom-inherit==2.3.1\n",
            "  Downloading https://files.pythonhosted.org/packages/2c/5a/50cb84ff6631e22f291ef706bb2c124f491e243ca2c1a56f59f388cfc95e/custom_inherit-2.3.1-py3-none-any.whl\n",
            "Requirement already satisfied: numpy>=1.18.2 in /usr/local/lib/python3.7/dist-packages (from orbit-ml==1.0.13) (1.19.5)\n",
            "Requirement already satisfied: seaborn>=0.10.0 in /usr/local/lib/python3.7/dist-packages (from orbit-ml==1.0.13) (0.11.1)\n",
            "Collecting statsmodels>=0.11.1\n",
            "\u001b[?25l  Downloading https://files.pythonhosted.org/packages/da/69/8eef30a6237c54f3c0b524140e2975f4b1eea3489b45eb3339574fc8acee/statsmodels-0.12.2-cp37-cp37m-manylinux1_x86_64.whl (9.5MB)\n",
            "\u001b[K     |████████████████████████████████| 9.5MB 47.0MB/s \n",
            "\u001b[?25hRequirement already satisfied: torch in /usr/local/lib/python3.7/dist-packages (from orbit-ml==1.0.13) (1.8.1+cu101)\n",
            "Requirement already satisfied: Cython!=0.25.1,>=0.22 in /usr/local/lib/python3.7/dist-packages (from pystan==2.19.1.1->orbit-ml==1.0.13) (0.29.22)\n",
            "Collecting pyro-api>=0.1.1\n",
            "  Downloading https://files.pythonhosted.org/packages/fc/81/957ae78e6398460a7230b0eb9b8f1cb954c5e913e868e48d89324c68cec7/pyro_api-0.1.2-py3-none-any.whl\n",
            "Requirement already satisfied: opt-einsum>=2.3.2 in /usr/local/lib/python3.7/dist-packages (from pyro-ppl>=1.4.0->orbit-ml==1.0.13) (3.3.0)\n",
            "Requirement already satisfied: pillow>=6.2.0 in /usr/local/lib/python3.7/dist-packages (from matplotlib==3.3.4->orbit-ml==1.0.13) (7.1.2)\n",
            "Requirement already satisfied: kiwisolver>=1.0.1 in /usr/local/lib/python3.7/dist-packages (from matplotlib==3.3.4->orbit-ml==1.0.13) (1.3.1)\n",
            "Requirement already satisfied: cycler>=0.10 in /usr/local/lib/python3.7/dist-packages (from matplotlib==3.3.4->orbit-ml==1.0.13) (0.10.0)\n",
            "Requirement already satisfied: pyparsing!=2.0.4,!=2.1.2,!=2.1.6,>=2.0.3 in /usr/local/lib/python3.7/dist-packages (from matplotlib==3.3.4->orbit-ml==1.0.13) (2.4.7)\n",
            "Requirement already satisfied: python-dateutil>=2.1 in /usr/local/lib/python3.7/dist-packages (from matplotlib==3.3.4->orbit-ml==1.0.13) (2.8.1)\n",
            "Requirement already satisfied: pytz>=2017.2 in /usr/local/lib/python3.7/dist-packages (from pandas>=1.0.3->orbit-ml==1.0.13) (2018.9)\n",
            "Requirement already satisfied: patsy>=0.5 in /usr/local/lib/python3.7/dist-packages (from statsmodels>=0.11.1->orbit-ml==1.0.13) (0.5.1)\n",
            "Requirement already satisfied: typing-extensions in /usr/local/lib/python3.7/dist-packages (from torch->orbit-ml==1.0.13) (3.7.4.3)\n",
            "Requirement already satisfied: six in /usr/local/lib/python3.7/dist-packages (from cycler>=0.10->matplotlib==3.3.4->orbit-ml==1.0.13) (1.15.0)\n",
            "\u001b[31mERROR: albumentations 0.1.12 has requirement imgaug<0.2.7,>=0.2.5, but you'll have imgaug 0.2.9 which is incompatible.\u001b[0m\n",
            "Installing collected packages: pyro-api, pyro-ppl, matplotlib, custom-inherit, statsmodels, orbit-ml\n",
            "  Found existing installation: matplotlib 3.2.2\n",
            "    Uninstalling matplotlib-3.2.2:\n",
            "      Successfully uninstalled matplotlib-3.2.2\n",
            "  Found existing installation: statsmodels 0.10.2\n",
            "    Uninstalling statsmodels-0.10.2:\n",
            "      Successfully uninstalled statsmodels-0.10.2\n",
            "Successfully installed custom-inherit-2.3.1 matplotlib-3.3.4 orbit-ml-1.0.13 pyro-api-0.1.2 pyro-ppl-1.6.0 statsmodels-0.12.2\n"
          ],
          "name": "stdout"
        },
        {
          "output_type": "display_data",
          "data": {
            "application/vnd.colab-display-data+json": {
              "pip_warning": {
                "packages": [
                  "matplotlib",
                  "mpl_toolkits"
                ]
              }
            }
          },
          "metadata": {
            "tags": []
          }
        },
        {
          "output_type": "stream",
          "text": [
            "Requirement already satisfied: fbprophet==0.7.1 in /usr/local/lib/python3.7/dist-packages (0.7.1)\n",
            "Requirement already satisfied: Cython>=0.22 in /usr/local/lib/python3.7/dist-packages (from fbprophet==0.7.1) (0.29.22)\n",
            "Requirement already satisfied: cmdstanpy==0.9.5 in /usr/local/lib/python3.7/dist-packages (from fbprophet==0.7.1) (0.9.5)\n",
            "Requirement already satisfied: pystan>=2.14 in /usr/local/lib/python3.7/dist-packages (from fbprophet==0.7.1) (2.19.1.1)\n",
            "Requirement already satisfied: numpy>=1.15.4 in /usr/local/lib/python3.7/dist-packages (from fbprophet==0.7.1) (1.19.5)\n",
            "Requirement already satisfied: pandas>=1.0.4 in /usr/local/lib/python3.7/dist-packages (from fbprophet==0.7.1) (1.1.5)\n",
            "Requirement already satisfied: matplotlib>=2.0.0 in /usr/local/lib/python3.7/dist-packages (from fbprophet==0.7.1) (3.3.4)\n",
            "Requirement already satisfied: LunarCalendar>=0.0.9 in /usr/local/lib/python3.7/dist-packages (from fbprophet==0.7.1) (0.0.9)\n",
            "Requirement already satisfied: convertdate>=2.1.2 in /usr/local/lib/python3.7/dist-packages (from fbprophet==0.7.1) (2.3.2)\n",
            "Requirement already satisfied: holidays>=0.10.2 in /usr/local/lib/python3.7/dist-packages (from fbprophet==0.7.1) (0.10.5.2)\n",
            "Requirement already satisfied: setuptools-git>=1.2 in /usr/local/lib/python3.7/dist-packages (from fbprophet==0.7.1) (1.2)\n",
            "Requirement already satisfied: python-dateutil>=2.8.0 in /usr/local/lib/python3.7/dist-packages (from fbprophet==0.7.1) (2.8.1)\n",
            "Requirement already satisfied: tqdm>=4.36.1 in /usr/local/lib/python3.7/dist-packages (from fbprophet==0.7.1) (4.41.1)\n",
            "Requirement already satisfied: pytz>=2017.2 in /usr/local/lib/python3.7/dist-packages (from pandas>=1.0.4->fbprophet==0.7.1) (2018.9)\n",
            "Requirement already satisfied: pyparsing!=2.0.4,!=2.1.2,!=2.1.6,>=2.0.3 in /usr/local/lib/python3.7/dist-packages (from matplotlib>=2.0.0->fbprophet==0.7.1) (2.4.7)\n",
            "Requirement already satisfied: pillow>=6.2.0 in /usr/local/lib/python3.7/dist-packages (from matplotlib>=2.0.0->fbprophet==0.7.1) (7.1.2)\n",
            "Requirement already satisfied: kiwisolver>=1.0.1 in /usr/local/lib/python3.7/dist-packages (from matplotlib>=2.0.0->fbprophet==0.7.1) (1.3.1)\n",
            "Requirement already satisfied: cycler>=0.10 in /usr/local/lib/python3.7/dist-packages (from matplotlib>=2.0.0->fbprophet==0.7.1) (0.10.0)\n",
            "Requirement already satisfied: ephem>=3.7.5.3 in /usr/local/lib/python3.7/dist-packages (from LunarCalendar>=0.0.9->fbprophet==0.7.1) (3.7.7.1)\n",
            "Requirement already satisfied: pymeeus<=1,>=0.3.13 in /usr/local/lib/python3.7/dist-packages (from convertdate>=2.1.2->fbprophet==0.7.1) (0.5.11)\n",
            "Requirement already satisfied: hijri-converter in /usr/local/lib/python3.7/dist-packages (from holidays>=0.10.2->fbprophet==0.7.1) (2.1.1)\n",
            "Requirement already satisfied: six in /usr/local/lib/python3.7/dist-packages (from holidays>=0.10.2->fbprophet==0.7.1) (1.15.0)\n",
            "Requirement already satisfied: korean-lunar-calendar in /usr/local/lib/python3.7/dist-packages (from holidays>=0.10.2->fbprophet==0.7.1) (0.2.1)\n"
          ],
          "name": "stdout"
        }
      ]
    },
    {
      "cell_type": "code",
      "metadata": {
        "id": "d8a85a5b"
      },
      "source": [
        "import numpy as np\n",
        "import tqdm\n",
        "import pandas as pd\n",
        "import statsmodels.api as sm\n",
        "import inspect\n",
        "import random\n",
        "from fbprophet import Prophet\n",
        "from statsmodels.tsa.statespace.sarimax import SARIMAX\n",
        "\n",
        "import orbit\n",
        "from orbit.models.dlt import DLTMAP\n",
        "from orbit.utils.dataset import load_m3monthly\n",
        "from orbit.diagnostics.backtest import BackTester\n",
        "from orbit.diagnostics.metrics import smape"
      ],
      "id": "d8a85a5b",
      "execution_count": null,
      "outputs": []
    },
    {
      "cell_type": "code",
      "metadata": {
        "id": "be3b8390"
      },
      "source": [
        "seed=2021\n",
        "n_sample=10\n",
        "random.seed(seed)"
      ],
      "id": "be3b8390",
      "execution_count": null,
      "outputs": []
    },
    {
      "cell_type": "markdown",
      "metadata": {
        "id": "e394eb60"
      },
      "source": [
        "We can load the m3 dataset from orbit repository.  For demo purpose, i set `n_sample` to be `10`. Feel free to adjust it or simply run the entire dataset."
      ],
      "id": "e394eb60"
    },
    {
      "cell_type": "code",
      "metadata": {
        "colab": {
          "base_uri": "https://localhost:8080/"
        },
        "id": "3f9a81b7",
        "outputId": "b52bcd45-093b-4ff2-f85f-b131c9f5540e"
      },
      "source": [
        "data = load_m3monthly()\n",
        "unique_keys = data['key'].unique().tolist()\n",
        "if n_sample > 0:\n",
        "    sample_keys = random.sample(unique_keys, 10)\n",
        "    # just get the first 5 series for demo\n",
        "    data = data[data['key'].isin(sample_keys)].reset_index(drop=True)\n",
        "else:\n",
        "    sample_keys = unique_keys\n",
        "print(sample_keys)"
      ],
      "id": "3f9a81b7",
      "execution_count": null,
      "outputs": [
        {
          "output_type": "stream",
          "text": [
            "['N2229', 'N2691', 'N2516', 'N1968', 'N1908', 'N2702', 'N1472', 'N2310', 'N2372', 'N2578']\n"
          ],
          "name": "stdout"
        }
      ]
    },
    {
      "cell_type": "code",
      "metadata": {
        "colab": {
          "base_uri": "https://localhost:8080/"
        },
        "id": "21b41737",
        "outputId": "746b3500-d0bd-410c-9496-8fefe0ade6e9"
      },
      "source": [
        "data.columns"
      ],
      "id": "21b41737",
      "execution_count": null,
      "outputs": [
        {
          "output_type": "execute_result",
          "data": {
            "text/plain": [
              "Index(['key', 'value', 'date'], dtype='object')"
            ]
          },
          "metadata": {
            "tags": []
          },
          "execution_count": 5
        }
      ]
    },
    {
      "cell_type": "markdown",
      "metadata": {
        "id": "45dd86cb"
      },
      "source": [
        "We need to provide some meta data such as date column, response column etc."
      ],
      "id": "45dd86cb"
    },
    {
      "cell_type": "code",
      "metadata": {
        "id": "8831518f"
      },
      "source": [
        "key_col='key'\n",
        "response_col='value'\n",
        "date_col='date'\n",
        "seasonality=12"
      ],
      "id": "8831518f",
      "execution_count": null,
      "outputs": []
    },
    {
      "cell_type": "markdown",
      "metadata": {
        "id": "351f226e"
      },
      "source": [
        "We also provide some setting mimic M3 (see https://forecasters.org/resources/time-series-data/m3-competition/) criteria."
      ],
      "id": "351f226e"
    },
    {
      "cell_type": "code",
      "metadata": {
        "id": "7dab9ec7"
      },
      "source": [
        "backtest_args = {\n",
        "    'min_train_len': 1, # not useful; a placeholder\n",
        "    'incremental_len': 18,  # not useful; a placeholder\n",
        "    'forecast_len': 18,\n",
        "    'n_splits': 1,\n",
        "    'window_type': \"expanding\",\n",
        "}"
      ],
      "id": "7dab9ec7",
      "execution_count": null,
      "outputs": []
    },
    {
      "cell_type": "markdown",
      "metadata": {
        "id": "40f2411e"
      },
      "source": [
        "We are using `DLT` here.  To use a multiplicative form, we create a wrapper to performm natural log transformation of response.  We also create wrapper for `prophet` and `sarima` for signature prupose.\n",
        "Note that prophet comes with its own multiplicative form."
      ],
      "id": "40f2411e"
    },
    {
      "cell_type": "code",
      "metadata": {
        "id": "ac574fc4"
      },
      "source": [
        "class DLTMAPWrapper(object):\n",
        "    def __init__(self, response_col, date_col, **kwargs):\n",
        "        kw_params = locals()['kwargs']\n",
        "        for key, value in kw_params.items():\n",
        "            setattr(self, key, value)\n",
        "        self.response_col = response_col\n",
        "        self.date_col = date_col\n",
        "        self.model = DLTMAP(\n",
        "            response_col=response_col,\n",
        "            date_col=date_col,\n",
        "            **kwargs)\n",
        "\n",
        "    def fit(self, df):\n",
        "        df = df.copy()\n",
        "        df[[self.response_col]] = df[[self.response_col]].apply(np.log1p)\n",
        "        self.model.fit(df)\n",
        "\n",
        "    def predict(self, df):\n",
        "        df = df.copy()\n",
        "        pred_df = self.model.predict(df)\n",
        "        pred_df['prediction'] = np.clip(np.expm1(pred_df['prediction']).values, 0, None)\n",
        "        return pred_df"
      ],
      "id": "ac574fc4",
      "execution_count": null,
      "outputs": []
    },
    {
      "cell_type": "code",
      "metadata": {
        "id": "1d0ac828"
      },
      "source": [
        "class SARIMAXWrapper(object):\n",
        "    def __init__(self, response_col, date_col, **kwargs):\n",
        "        kw_params = locals()['kwargs']\n",
        "        for key, value in kw_params.items():\n",
        "            setattr(self, key, value)\n",
        "        self.response_col = response_col\n",
        "        self.date_col = date_col\n",
        "        self.model = None\n",
        "        self.df = None\n",
        "\n",
        "    def fit(self, df):\n",
        "\n",
        "        df_copy = df.copy()\n",
        "        infer_freq = pd.infer_freq(df_copy[self.date_col])\n",
        "        df_copy = df_copy.set_index(self.date_col)\n",
        "        df_copy = df_copy.asfreq(infer_freq)\n",
        "        endog = df_copy[self.response_col]\n",
        "        sig = inspect.signature(SARIMAX)\n",
        "        all_params = dict()\n",
        "        for key in sig.parameters.keys():\n",
        "            if hasattr(self, key):\n",
        "                all_params[key] = getattr(self, key)\n",
        "        self.df = df_copy\n",
        "        self.model = SARIMAX(endog=endog, **all_params).fit(disp=False)\n",
        "\n",
        "    def predict(self, df, **kwargs):\n",
        "        df_copy = df.copy()\n",
        "        infer_freq = pd.infer_freq(df_copy[self.date_col])\n",
        "        df_copy = df_copy.set_index(self.date_col)\n",
        "        df_copy = df_copy.asfreq(infer_freq)\n",
        "\n",
        "        pred_array = np.array(self.model.predict(start=df_copy.index[0],\n",
        "                                                 end=df_copy.index[-1],\n",
        "                                                 **kwargs))\n",
        "\n",
        "        out = pd.DataFrame({\n",
        "            self.date_col: df[self.date_col],\n",
        "            'prediction': pred_array\n",
        "        })\n",
        "        return out"
      ],
      "id": "1d0ac828",
      "execution_count": null,
      "outputs": []
    },
    {
      "cell_type": "code",
      "metadata": {
        "id": "7b03a8c3"
      },
      "source": [
        "class ProphetWrapper(object):\n",
        "    def __init__(self, response_col, date_col, **kwargs):\n",
        "        kw_params = locals()['kwargs']\n",
        "        for key, value in kw_params.items():\n",
        "            setattr(self, key, value)\n",
        "        self.response_col = response_col\n",
        "        self.date_col = date_col\n",
        "        self.model = Prophet(**kwargs)\n",
        "\n",
        "    def fit(self, df):\n",
        "        sig = inspect.signature(Prophet)\n",
        "        all_params = dict()\n",
        "        for key in sig.parameters.keys():\n",
        "            if hasattr(self, key):\n",
        "                all_params[key] = getattr(self, key)\n",
        "        object_type = type(self.model)\n",
        "        self.model = object_type(**all_params)\n",
        "\n",
        "        train_df = df.copy()\n",
        "        train_df = train_df.rename(columns={self.date_col: \"ds\", self.response_col: \"y\"})\n",
        "        self.model.fit(train_df)\n",
        "\n",
        "    def predict(self, df):\n",
        "        df = df.copy()\n",
        "        df = df.rename(columns={self.date_col: \"ds\"})\n",
        "        pred_df = self.model.predict(df)\n",
        "        pred_df = pred_df.rename(columns={'yhat': 'prediction', 'ds': self.date_col})\n",
        "        pred_df = pred_df[[self.date_col, 'prediction']]\n",
        "        return pred_df"
      ],
      "id": "7b03a8c3",
      "execution_count": null,
      "outputs": []
    },
    {
      "cell_type": "markdown",
      "metadata": {
        "id": "d6bc1dfc"
      },
      "source": [
        "Declare model objects and run backtest. Score shows in the end."
      ],
      "id": "d6bc1dfc"
    },
    {
      "cell_type": "code",
      "metadata": {
        "id": "db00bc70"
      },
      "source": [
        "dlt = DLTMAPWrapper(\n",
        "    response_col=response_col,\n",
        "    date_col=date_col,\n",
        "    seasonality=seasonality,\n",
        "    seed=seed,\n",
        ")\n",
        "\n",
        "sarima = SARIMAXWrapper(\n",
        "    response_col=response_col,\n",
        "    date_col=date_col,\n",
        "    seasonality=seasonality,\n",
        "    seed=seed,\n",
        ")\n",
        "\n",
        "prophet = ProphetWrapper(\n",
        "    response_col=response_col,\n",
        "    date_col=date_col,\n",
        ")"
      ],
      "id": "db00bc70",
      "execution_count": null,
      "outputs": []
    },
    {
      "cell_type": "code",
      "metadata": {
        "colab": {
          "base_uri": "https://localhost:8080/"
        },
        "id": "13f984c2",
        "outputId": "6c1f9c9e-6a37-4dd2-8aae-22c44282d18f"
      },
      "source": [
        "all_scores = []\n",
        "\n",
        "for key in tqdm.tqdm(sample_keys):\n",
        "    # dlt\n",
        "    df = data[data[key_col] == key]\n",
        "    bt = BackTester(\n",
        "        model=dlt,\n",
        "        df=df,\n",
        "        **backtest_args,\n",
        "    )\n",
        "    bt.fit_predict()\n",
        "    scores_df = bt.score(metrics=[smape])\n",
        "    scores_df[key_col] = key\n",
        "    scores_df['model'] = 'dlt'\n",
        "    all_scores.append(scores_df)\n",
        "    # sarima\n",
        "    df = data[data[key_col] == key]\n",
        "    bt = BackTester(\n",
        "        model=sarima,\n",
        "        df=df,\n",
        "        **backtest_args,\n",
        "    )\n",
        "    bt.fit_predict()\n",
        "    scores_df = bt.score(metrics=[smape])\n",
        "    scores_df[key_col] = key\n",
        "    scores_df['model'] = 'sarima'\n",
        "    all_scores.append(scores_df)\n",
        "    # prophet\n",
        "    df = data[data[key_col] == key]\n",
        "    bt = BackTester(\n",
        "        model=prophet,\n",
        "        df=df,\n",
        "        **backtest_args,\n",
        "    )\n",
        "    bt.fit_predict()\n",
        "    scores_df = bt.score(metrics=[smape])\n",
        "    scores_df[key_col] = key\n",
        "    scores_df['model'] = 'prophet'\n",
        "    all_scores.append(scores_df)\n",
        "\n",
        "\n",
        "all_scores = pd.concat(all_scores, axis=0, ignore_index=True)"
      ],
      "id": "13f984c2",
      "execution_count": null,
      "outputs": [
        {
          "output_type": "stream",
          "text": [
            "\r  0%|          | 0/10 [00:00<?, ?it/s]INFO:pystan:COMPILING THE C++ CODE FOR MODEL anon_model_b0a449c7523386cce384e92a998e71c8 NOW.\n",
            "/usr/local/lib/python3.7/dist-packages/statsmodels/tsa/statespace/sarimax.py:966: UserWarning:\n",
            "\n",
            "Non-stationary starting autoregressive parameters found. Using zeros as starting parameters.\n",
            "\n",
            "INFO:numexpr.utils:NumExpr defaulting to 2 threads.\n",
            "INFO:fbprophet:Disabling weekly seasonality. Run prophet with weekly_seasonality=True to override this.\n",
            "INFO:fbprophet:Disabling daily seasonality. Run prophet with daily_seasonality=True to override this.\n",
            " 10%|█         | 1/10 [01:27<13:03, 87.11s/it]/usr/local/lib/python3.7/dist-packages/statsmodels/tsa/statespace/sarimax.py:966: UserWarning:\n",
            "\n",
            "Non-stationary starting autoregressive parameters found. Using zeros as starting parameters.\n",
            "\n",
            "INFO:fbprophet:Disabling weekly seasonality. Run prophet with weekly_seasonality=True to override this.\n",
            "INFO:fbprophet:Disabling daily seasonality. Run prophet with daily_seasonality=True to override this.\n",
            " 20%|██        | 2/10 [01:32<08:20, 62.54s/it]INFO:fbprophet:Disabling weekly seasonality. Run prophet with weekly_seasonality=True to override this.\n",
            "INFO:fbprophet:Disabling daily seasonality. Run prophet with daily_seasonality=True to override this.\n",
            " 30%|███       | 3/10 [01:37<05:16, 45.22s/it]INFO:fbprophet:Disabling weekly seasonality. Run prophet with weekly_seasonality=True to override this.\n",
            "INFO:fbprophet:Disabling daily seasonality. Run prophet with daily_seasonality=True to override this.\n",
            " 40%|████      | 4/10 [01:41<03:18, 33.04s/it]INFO:fbprophet:Disabling weekly seasonality. Run prophet with weekly_seasonality=True to override this.\n",
            "INFO:fbprophet:Disabling daily seasonality. Run prophet with daily_seasonality=True to override this.\n",
            " 50%|█████     | 5/10 [01:46<02:02, 24.53s/it]/usr/local/lib/python3.7/dist-packages/statsmodels/tsa/statespace/sarimax.py:966: UserWarning:\n",
            "\n",
            "Non-stationary starting autoregressive parameters found. Using zeros as starting parameters.\n",
            "\n",
            "INFO:fbprophet:Disabling weekly seasonality. Run prophet with weekly_seasonality=True to override this.\n",
            "INFO:fbprophet:Disabling daily seasonality. Run prophet with daily_seasonality=True to override this.\n",
            " 60%|██████    | 6/10 [01:51<01:14, 18.70s/it]INFO:fbprophet:Disabling weekly seasonality. Run prophet with weekly_seasonality=True to override this.\n",
            "INFO:fbprophet:Disabling daily seasonality. Run prophet with daily_seasonality=True to override this.\n",
            " 70%|███████   | 7/10 [01:56<00:43, 14.61s/it]/usr/local/lib/python3.7/dist-packages/statsmodels/tsa/statespace/sarimax.py:966: UserWarning:\n",
            "\n",
            "Non-stationary starting autoregressive parameters found. Using zeros as starting parameters.\n",
            "\n",
            "INFO:fbprophet:Disabling weekly seasonality. Run prophet with weekly_seasonality=True to override this.\n",
            "INFO:fbprophet:Disabling daily seasonality. Run prophet with daily_seasonality=True to override this.\n",
            " 80%|████████  | 8/10 [02:01<00:23, 11.64s/it]/usr/local/lib/python3.7/dist-packages/statsmodels/tsa/statespace/sarimax.py:966: UserWarning:\n",
            "\n",
            "Non-stationary starting autoregressive parameters found. Using zeros as starting parameters.\n",
            "\n",
            "INFO:fbprophet:Disabling weekly seasonality. Run prophet with weekly_seasonality=True to override this.\n",
            "INFO:fbprophet:Disabling daily seasonality. Run prophet with daily_seasonality=True to override this.\n",
            " 90%|█████████ | 9/10 [02:06<00:09,  9.57s/it]INFO:fbprophet:Disabling weekly seasonality. Run prophet with weekly_seasonality=True to override this.\n",
            "INFO:fbprophet:Disabling daily seasonality. Run prophet with daily_seasonality=True to override this.\n",
            "100%|██████████| 10/10 [02:10<00:00, 13.07s/it]\n"
          ],
          "name": "stderr"
        }
      ]
    },
    {
      "cell_type": "code",
      "metadata": {
        "colab": {
          "base_uri": "https://localhost:8080/",
          "height": 142
        },
        "id": "1ac520a5",
        "outputId": "6d9416a2-7a9e-4523-e050-acb314ef6d48"
      },
      "source": [
        "all_scores.groupby('model')['metric_values'].apply(np.mean).reset_index()"
      ],
      "id": "1ac520a5",
      "execution_count": null,
      "outputs": [
        {
          "output_type": "execute_result",
          "data": {
            "text/html": [
              "<div>\n",
              "<style scoped>\n",
              "    .dataframe tbody tr th:only-of-type {\n",
              "        vertical-align: middle;\n",
              "    }\n",
              "\n",
              "    .dataframe tbody tr th {\n",
              "        vertical-align: top;\n",
              "    }\n",
              "\n",
              "    .dataframe thead th {\n",
              "        text-align: right;\n",
              "    }\n",
              "</style>\n",
              "<table border=\"1\" class=\"dataframe\">\n",
              "  <thead>\n",
              "    <tr style=\"text-align: right;\">\n",
              "      <th></th>\n",
              "      <th>model</th>\n",
              "      <th>metric_values</th>\n",
              "    </tr>\n",
              "  </thead>\n",
              "  <tbody>\n",
              "    <tr>\n",
              "      <th>0</th>\n",
              "      <td>dlt</td>\n",
              "      <td>0.056475</td>\n",
              "    </tr>\n",
              "    <tr>\n",
              "      <th>1</th>\n",
              "      <td>prophet</td>\n",
              "      <td>0.111940</td>\n",
              "    </tr>\n",
              "    <tr>\n",
              "      <th>2</th>\n",
              "      <td>sarima</td>\n",
              "      <td>0.097403</td>\n",
              "    </tr>\n",
              "  </tbody>\n",
              "</table>\n",
              "</div>"
            ],
            "text/plain": [
              "     model  metric_values\n",
              "0      dlt       0.056475\n",
              "1  prophet       0.111940\n",
              "2   sarima       0.097403"
            ]
          },
          "metadata": {
            "tags": []
          },
          "execution_count": 13
        }
      ]
    }
  ]
}